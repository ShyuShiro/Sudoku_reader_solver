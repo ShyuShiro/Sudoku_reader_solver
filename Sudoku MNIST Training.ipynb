{
 "cells": [
  {
   "cell_type": "markdown",
   "metadata": {},
   "source": [
    "How to build a good number reader: https://www.youtube.com/watch?v=y1ZrOs9s2QA&t=0s"
   ]
  },
  {
   "cell_type": "markdown",
   "metadata": {},
   "source": [
    "# Load & Check packages"
   ]
  },
  {
   "cell_type": "markdown",
   "metadata": {},
   "source": [
    "May need to download Tensorflow 2.3.0 instead utilizing this specific build package -- https://github.com/ContinuumIO/anaconda-issues/issues/12194#issuecomment-751700156\n",
    "\n",
    "Then get the appropriate CUDA, cuDNN, and TensorRT versions =/\n",
    "\n",
    "1) How to set up environment \n",
    "\n",
    "https://github.com/jeffheaton/t81_558_deep_learning/blob/master/install/tensorflow-install-jul-2020.ipynb\n",
    "\n",
    "2) Versions to get\n",
    "\n",
    "https://www.tensorflow.org/install/source_windows\n",
    "\n",
    "3) How to set up CUDA and such\n",
    "\n",
    "https://www.tensorflow.org/install/gpu"
   ]
  },
  {
   "cell_type": "code",
   "execution_count": 3,
   "metadata": {},
   "outputs": [],
   "source": [
    "import tensorflow as tf\n",
    "import numpy as np\n",
    "import os"
   ]
  },
  {
   "cell_type": "markdown",
   "metadata": {},
   "source": [
    "Check tensorflow environment"
   ]
  },
  {
   "cell_type": "code",
   "execution_count": 2,
   "metadata": {},
   "outputs": [
    {
     "name": "stdout",
     "output_type": "stream",
     "text": [
      "Tensorflow version: 2.3.0\n"
     ]
    }
   ],
   "source": [
    "print(\"Tensorflow version:\",tf.__version__)"
   ]
  },
  {
   "cell_type": "markdown",
   "metadata": {},
   "source": [
    "Check GPU availability"
   ]
  },
  {
   "cell_type": "code",
   "execution_count": 105,
   "metadata": {},
   "outputs": [
    {
     "name": "stdout",
     "output_type": "stream",
     "text": [
      "GPU is available\n"
     ]
    }
   ],
   "source": [
    "print(\"GPU is\", \"available\" if tf.config.list_physical_devices('GPU') else \"NOT AVAILABLE\") #Check if available"
   ]
  },
  {
   "cell_type": "markdown",
   "metadata": {},
   "source": [
    "Check the GPU name --- To double confirm that your GPU is available"
   ]
  },
  {
   "cell_type": "code",
   "execution_count": 4,
   "metadata": {},
   "outputs": [
    {
     "name": "stdout",
     "output_type": "stream",
     "text": [
      "Num GPUs Available:  1\n",
      "[name: \"/device:CPU:0\"\n",
      "device_type: \"CPU\"\n",
      "memory_limit: 268435456\n",
      "locality {\n",
      "}\n",
      "incarnation: 16051793030981336897\n",
      ", name: \"/device:XLA_CPU:0\"\n",
      "device_type: \"XLA_CPU\"\n",
      "memory_limit: 17179869184\n",
      "locality {\n",
      "}\n",
      "incarnation: 4508431093423625062\n",
      "physical_device_desc: \"device: XLA_CPU device\"\n",
      ", name: \"/device:GPU:0\"\n",
      "device_type: \"GPU\"\n",
      "memory_limit: 6963698080\n",
      "locality {\n",
      "  bus_id: 1\n",
      "  links {\n",
      "  }\n",
      "}\n",
      "incarnation: 8601705304436765310\n",
      "physical_device_desc: \"device: 0, name: NVIDIA GeForce RTX 2070, pci bus id: 0000:2b:00.0, compute capability: 7.5\"\n",
      ", name: \"/device:XLA_GPU:0\"\n",
      "device_type: \"XLA_GPU\"\n",
      "memory_limit: 17179869184\n",
      "locality {\n",
      "}\n",
      "incarnation: 15268544499097709741\n",
      "physical_device_desc: \"device: XLA_GPU device\"\n",
      "]\n"
     ]
    },
    {
     "data": {
      "text/plain": [
       "'/device:GPU:0'"
      ]
     },
     "execution_count": 4,
     "metadata": {},
     "output_type": "execute_result"
    }
   ],
   "source": [
    "import tensorflow as tf\n",
    "print(\"Num GPUs Available: \", len(tf.config.experimental.list_physical_devices('GPU')))\n",
    "from tensorflow.python.client import device_lib\n",
    "print(device_lib.list_local_devices())\n",
    "tf.test.gpu_device_name()"
   ]
  },
  {
   "cell_type": "markdown",
   "metadata": {},
   "source": [
    "Enable GPU"
   ]
  },
  {
   "cell_type": "code",
   "execution_count": 5,
   "metadata": {},
   "outputs": [
    {
     "name": "stdout",
     "output_type": "stream",
     "text": [
      "Success!\n"
     ]
    }
   ],
   "source": [
    "try:\n",
    "    physical_devices = tf.config.list_physical_devices('GPU') \n",
    "    tf.config.experimental.set_memory_growth(physical_devices[0], True)\n",
    "    print(\"Success!\")\n",
    "except:\n",
    "    print(\"Could not set memory_growth\")"
   ]
  },
  {
   "cell_type": "markdown",
   "metadata": {},
   "source": [
    "Import packages"
   ]
  },
  {
   "cell_type": "code",
   "execution_count": 4,
   "metadata": {},
   "outputs": [],
   "source": [
    "import glob\n",
    "import os\n",
    "import PIL\n",
    "import matplotlib.pyplot as plt\n",
    "from tensorflow import keras\n",
    "from tensorflow.keras import layers\n",
    "from tensorflow.keras.models import Sequential\n",
    "from IPython import display"
   ]
  },
  {
   "cell_type": "markdown",
   "metadata": {},
   "source": [
    "# Load images"
   ]
  },
  {
   "cell_type": "markdown",
   "metadata": {},
   "source": [
    "If the below code has issues:\n",
    "\n",
    "Use the following update to the file located in this path:\n",
    "C:\\Users\\Brandon\\AppData\\Roaming\\Python\\Python37\\site-packages\\tensorflow_datasets\\d4rl\\dataset_utils.py\n",
    "\n",
    "Source: https://github.com/tensorflow/lucid/issues/201\n",
    "```\n",
    "#from tensorflow_io import gfile #tensorflow_io was called tensorflow.io (dot) ... but even then this \"gfile\" was moved and the following code below is the fix (BJT 05/11/21)\n",
    "import tensorflow.compat.v1.gfile as gfile\n",
    "```"
   ]
  },
  {
   "cell_type": "code",
   "execution_count": 7,
   "metadata": {},
   "outputs": [
    {
     "name": "stderr",
     "output_type": "stream",
     "text": [
      "WARNING:absl:Found a different version 3.0.1 of dataset mnist in data_dir C:\\Users\\Brandon\\tensorflow_datasets. Using currently defined version 1.0.0.\n",
      "WARNING:absl:Warning: Setting shuffle_files=True because split=TRAIN and shuffle_files=None. This behavior will be deprecated on 2019-08-06, at which point shuffle_files=False will be the default for all splits.\n",
      "WARNING:absl:Found a different version 3.0.1 of dataset mnist in data_dir C:\\Users\\Brandon\\tensorflow_datasets. Using currently defined version 1.0.0.\n"
     ]
    }
   ],
   "source": [
    "#Download MNIST training data\n",
    "import tensorflow_datasets as tfds\n",
    "train_df, train_label = tfds.as_numpy(tfds.load(\n",
    "    'mnist',\n",
    "    split='train', \n",
    "    batch_size=-1, \n",
    "    as_supervised=True,\n",
    "))\n",
    "\n",
    "test_df, test_label = tfds.as_numpy(tfds.load(\n",
    "    'mnist',\n",
    "    split='test', \n",
    "    batch_size=-1, \n",
    "    as_supervised=True,\n",
    "))"
   ]
  },
  {
   "cell_type": "code",
   "execution_count": 8,
   "metadata": {},
   "outputs": [
    {
     "name": "stdout",
     "output_type": "stream",
     "text": [
      "[0 1 2 3 4 5 6 7 8 9] 10\n"
     ]
    }
   ],
   "source": [
    "img_shape = (28,28,1)\n",
    "classes = np.unique(train_label)\n",
    "num_classes = len(classes)\n",
    "print(classes,num_classes)"
   ]
  },
  {
   "cell_type": "markdown",
   "metadata": {},
   "source": [
    "# Preprocessing"
   ]
  },
  {
   "cell_type": "markdown",
   "metadata": {},
   "source": [
    "For the purpose of sudoku -- we don't need to train the model on `0` class"
   ]
  },
  {
   "cell_type": "code",
   "execution_count": 9,
   "metadata": {},
   "outputs": [
    {
     "name": "stdout",
     "output_type": "stream",
     "text": [
      "(54077, 28, 28, 1)\n",
      "(9020, 28, 28, 1)\n",
      "[1 2 3 4 5 6 7 8 9] 9\n"
     ]
    }
   ],
   "source": [
    "#Select entries where 0 is not the class identity\n",
    "\n",
    "#Train\n",
    "train_df = train_df[train_label!=0]\n",
    "train_label = train_label[train_label!=0]\n",
    "\n",
    "\n",
    "#Test\n",
    "test_df = test_df[test_label!=0]\n",
    "test_label = test_label[test_label!=0]\n",
    "\n",
    "train_n = train_df.shape[0] #Num of images in train\n",
    "test_n = test_df.shape[0] #Num of images in test\n",
    "print(train_df.shape)\n",
    "print(test_df.shape)\n",
    "\n",
    "classes = np.unique(train_label)\n",
    "num_classes = len(classes)\n",
    "print(classes,num_classes)"
   ]
  },
  {
   "cell_type": "markdown",
   "metadata": {},
   "source": [
    "Adjust the labels because everything needs to be 0-indexed"
   ]
  },
  {
   "cell_type": "code",
   "execution_count": 10,
   "metadata": {},
   "outputs": [
    {
     "name": "stdout",
     "output_type": "stream",
     "text": [
      "[0 1 2 3 4 5 6 7 8]\n",
      "[0 1 2 3 4 5 6 7 8]\n"
     ]
    }
   ],
   "source": [
    "train_label -= 1 #Convert [1,9] to [0,8] because SparseCategoricalCrossentropy requires the one-hot encoding starts at 0\n",
    "test_label -= 1 #Also need to do that for the test data\n",
    "\n",
    "print(np.unique(train_label))\n",
    "print(np.unique(test_label))"
   ]
  },
  {
   "cell_type": "markdown",
   "metadata": {},
   "source": [
    "# Define augmentations to images\n",
    "\n",
    "To aid the model in interpreting photos of sudoku grids from the internet\n",
    "\n",
    "Augment the images with noise + slight modification to rotation & zoom\n",
    "- Sometimes the images may be smaller or larger numbers\n",
    "- Sometimes they will be slightly imperfect (askew)\n",
    "- Lastly, the noise helps where cv2 fails to always generate a perfect image after processing & refinement"
   ]
  },
  {
   "cell_type": "code",
   "execution_count": 64,
   "metadata": {},
   "outputs": [],
   "source": [
    "resize_and_rescale = tf.keras.Sequential([\n",
    "  layers.experimental.preprocessing.Resizing(img_shape[0], img_shape[1],input_shape=[28,28,1]),\n",
    "])\n"
   ]
  },
  {
   "cell_type": "code",
   "execution_count": 65,
   "metadata": {},
   "outputs": [],
   "source": [
    "data_augmentation = tf.keras.Sequential(\n",
    "  [     \n",
    "    layers.GaussianNoise(0.2,input_shape=[28,28,1]), #Add noise with 0.2 std-dev\n",
    "#    layers.experimental.preprocessing.RandomRotation(0.2),\n",
    "#    layers.experimental.preprocessing.RandomZoom(0.2),\n",
    "  ]\n",
    ")"
   ]
  },
  {
   "cell_type": "markdown",
   "metadata": {},
   "source": [
    "# Define model"
   ]
  },
  {
   "cell_type": "raw",
   "metadata": {},
   "source": [
    "model = tf.keras.Sequential() #Initialize\n",
    "\n",
    "model.add(data_augmentation) #Input layer -- the input_shape() parameter is already defined\n",
    "model.add(layers.Conv2D(8, 5,activation='relu',padding='same'))\n",
    "model.add(layers.Conv2D(16, 5,activation='relu',padding='same'))\n",
    "model.add(layers.MaxPooling2D())\n",
    "model.add(layers.Conv2D(16, 3, padding='same', activation='relu'))\n",
    "model.add(layers.Conv2D(64, 3, padding='same', activation='relu'))\n",
    "model.add(layers.MaxPooling2D())\n",
    "model.add(layers.Flatten())\n",
    "model.add(layers.Dropout(0.5))\n",
    "model.add(layers.Dense(400,activation='relu'))\n",
    "model.add(layers.Dropout(0.5))\n",
    "model.add(layers.Dense(len(classes),activation='softmax')) #Output layer\n",
    "\n",
    "model.summary()"
   ]
  },
  {
   "cell_type": "code",
   "execution_count": 66,
   "metadata": {
    "code_folding": []
   },
   "outputs": [
    {
     "name": "stdout",
     "output_type": "stream",
     "text": [
      "Model: \"sequential_5\"\n",
      "_________________________________________________________________\n",
      "Layer (type)                 Output Shape              Param #   \n",
      "=================================================================\n",
      "sequential_4 (Sequential)    (None, 28, 28, 1)         0         \n",
      "_________________________________________________________________\n",
      "conv2d (Conv2D)              (None, 22, 22, 64)        3200      \n",
      "_________________________________________________________________\n",
      "max_pooling2d (MaxPooling2D) (None, 11, 11, 64)        0         \n",
      "_________________________________________________________________\n",
      "conv2d_1 (Conv2D)            (None, 11, 11, 128)       73856     \n",
      "_________________________________________________________________\n",
      "conv2d_2 (Conv2D)            (None, 11, 11, 128)       147584    \n",
      "_________________________________________________________________\n",
      "max_pooling2d_1 (MaxPooling2 (None, 5, 5, 128)         0         \n",
      "_________________________________________________________________\n",
      "conv2d_3 (Conv2D)            (None, 5, 5, 128)         147584    \n",
      "_________________________________________________________________\n",
      "conv2d_4 (Conv2D)            (None, 5, 5, 128)         147584    \n",
      "_________________________________________________________________\n",
      "max_pooling2d_2 (MaxPooling2 (None, 2, 2, 128)         0         \n",
      "_________________________________________________________________\n",
      "flatten (Flatten)            (None, 512)               0         \n",
      "_________________________________________________________________\n",
      "dense (Dense)                (None, 256)               131328    \n",
      "_________________________________________________________________\n",
      "dropout (Dropout)            (None, 256)               0         \n",
      "_________________________________________________________________\n",
      "dense_1 (Dense)              (None, 128)               32896     \n",
      "_________________________________________________________________\n",
      "dropout_1 (Dropout)          (None, 128)               0         \n",
      "_________________________________________________________________\n",
      "dense_2 (Dense)              (None, 64)                8256      \n",
      "_________________________________________________________________\n",
      "dropout_2 (Dropout)          (None, 64)                0         \n",
      "_________________________________________________________________\n",
      "dense_3 (Dense)              (None, 9)                 585       \n",
      "=================================================================\n",
      "Total params: 692,873\n",
      "Trainable params: 692,873\n",
      "Non-trainable params: 0\n",
      "_________________________________________________________________\n"
     ]
    }
   ],
   "source": [
    "#Model from https://www.kaggle.com/henseljahja/simple-tensorflow-cnn-98-8\n",
    "model = keras.models.Sequential([\n",
    "    data_augmentation,\n",
    "    layers.Conv2D(filters=64, kernel_size=7),\n",
    "    layers.MaxPooling2D(pool_size=2),\n",
    "    layers.Conv2D(filters=128, kernel_size=3, activation='relu', padding=\"SAME\"),\n",
    "    layers.Conv2D(filters=128, kernel_size=3, activation='relu', padding=\"SAME\"),\n",
    "    layers.MaxPooling2D(pool_size=2),\n",
    "    layers.Conv2D(filters=128, kernel_size=3, activation='relu', padding=\"SAME\"),\n",
    "    layers.Conv2D(filters=128, kernel_size=3, activation='relu', padding=\"SAME\"),\n",
    "    layers.MaxPooling2D(pool_size=2),\n",
    "    layers.Flatten(),\n",
    "    layers.Dense(units=256, activation='relu'),\n",
    "    layers.Dropout(0.5),\n",
    "    layers.Dense(units=128, activation='relu'),\n",
    "    layers.Dropout(0.5),\n",
    "    layers.Dense(units=64, activation='relu'),\n",
    "    layers.Dropout(0.5),    \n",
    "    keras.layers.Dense(units=9, activation='softmax'), #9 outputs [1,2,3,4,5,6,7,8,9]\n",
    "])\n",
    "\n",
    "model.summary()"
   ]
  },
  {
   "cell_type": "code",
   "execution_count": 67,
   "metadata": {},
   "outputs": [],
   "source": [
    "model.compile(\n",
    "    loss=\"sparse_categorical_crossentropy\",\n",
    "    optimizer = 'nadam',\n",
    "    metrics=['accuracy']\n",
    ")"
   ]
  },
  {
   "cell_type": "code",
   "execution_count": 68,
   "metadata": {},
   "outputs": [
    {
     "name": "stdout",
     "output_type": "stream",
     "text": [
      "Epoch 1/20\n",
      "1521/1521 [==============================] - 6s 4ms/step - loss: 0.6610 - accuracy: 0.7928 - val_loss: 0.1519 - val_accuracy: 0.9676\n",
      "Epoch 2/20\n",
      "1521/1521 [==============================] - 6s 4ms/step - loss: 0.2202 - accuracy: 0.9517 - val_loss: 0.1114 - val_accuracy: 0.9737\n",
      "Epoch 3/20\n",
      "1521/1521 [==============================] - 6s 4ms/step - loss: 0.1897 - accuracy: 0.9590 - val_loss: 0.1454 - val_accuracy: 0.9673\n",
      "Epoch 4/20\n",
      "1521/1521 [==============================] - 6s 4ms/step - loss: 0.1693 - accuracy: 0.9626 - val_loss: 0.0916 - val_accuracy: 0.9811\n",
      "Epoch 5/20\n",
      "1521/1521 [==============================] - 6s 4ms/step - loss: 0.1746 - accuracy: 0.9651 - val_loss: 0.1380 - val_accuracy: 0.9713\n",
      "Epoch 6/20\n",
      "1521/1521 [==============================] - 6s 4ms/step - loss: 0.1524 - accuracy: 0.9690 - val_loss: 0.1068 - val_accuracy: 0.9817\n",
      "Epoch 7/20\n",
      "1521/1521 [==============================] - 6s 4ms/step - loss: 0.1650 - accuracy: 0.9668 - val_loss: 0.1233 - val_accuracy: 0.9717\n",
      "Epoch 8/20\n",
      "1521/1521 [==============================] - 6s 4ms/step - loss: 0.1354 - accuracy: 0.9734 - val_loss: 0.1585 - val_accuracy: 0.9691\n",
      "Epoch 9/20\n",
      "1521/1521 [==============================] - 6s 4ms/step - loss: 0.1454 - accuracy: 0.9705 - val_loss: 0.1192 - val_accuracy: 0.9811\n",
      "Epoch 10/20\n",
      "1521/1521 [==============================] - 6s 4ms/step - loss: 0.1415 - accuracy: 0.9718 - val_loss: 0.0924 - val_accuracy: 0.9826\n",
      "Epoch 11/20\n",
      "1521/1521 [==============================] - 6s 4ms/step - loss: 0.1329 - accuracy: 0.9740 - val_loss: 0.1492 - val_accuracy: 0.9813\n",
      "Epoch 12/20\n",
      "1521/1521 [==============================] - 6s 4ms/step - loss: 0.1541 - accuracy: 0.9687 - val_loss: 0.1141 - val_accuracy: 0.9789\n",
      "Epoch 13/20\n",
      "1521/1521 [==============================] - 6s 4ms/step - loss: 0.1597 - accuracy: 0.9694 - val_loss: 0.0941 - val_accuracy: 0.9839\n",
      "Epoch 14/20\n",
      "1521/1521 [==============================] - 6s 4ms/step - loss: 0.1268 - accuracy: 0.9750 - val_loss: 0.1233 - val_accuracy: 0.9780\n",
      "Epoch 15/20\n",
      "1521/1521 [==============================] - 6s 4ms/step - loss: 0.1436 - accuracy: 0.9711 - val_loss: 0.1121 - val_accuracy: 0.9793\n",
      "Epoch 16/20\n",
      "1521/1521 [==============================] - 6s 4ms/step - loss: 0.1301 - accuracy: 0.9758 - val_loss: 0.0959 - val_accuracy: 0.9832\n",
      "Epoch 17/20\n",
      "1521/1521 [==============================] - 6s 4ms/step - loss: 0.1465 - accuracy: 0.9733 - val_loss: 0.0954 - val_accuracy: 0.9850\n",
      "Epoch 18/20\n",
      "1521/1521 [==============================] - 6s 4ms/step - loss: 0.1481 - accuracy: 0.9722 - val_loss: 0.0966 - val_accuracy: 0.9856\n",
      "Epoch 19/20\n",
      "1521/1521 [==============================] - 6s 4ms/step - loss: 0.1245 - accuracy: 0.9757 - val_loss: 0.1433 - val_accuracy: 0.9787\n",
      "Epoch 20/20\n",
      "1521/1521 [==============================] - 6s 4ms/step - loss: 0.1496 - accuracy: 0.9711 - val_loss: 0.1402 - val_accuracy: 0.9832\n",
      "Wall time: 1min 58s\n"
     ]
    }
   ],
   "source": [
    "%%time\n",
    "#epochs = 20\n",
    "#result = model.fit(\n",
    "#    x = train_df,\n",
    "#    y = train_label,\n",
    "#    validation_split=0.1,\n",
    "#    batch_size=256,\n",
    "#    shuffle=True,\n",
    "#    epochs=epochs\n",
    "#)\n",
    "\n",
    "result = model.fit(train_df,train_label,\n",
    "                   validation_split=.1,\n",
    "                   epochs=20,\n",
    "                   shuffle=True)"
   ]
  },
  {
   "cell_type": "code",
   "execution_count": 69,
   "metadata": {},
   "outputs": [
    {
     "data": {
      "image/png": "[encoded data removed]",
      "text/plain": [
       "<Figure size 432x288 with 2 Axes>"
      ]
     },
     "metadata": {
      "needs_background": "light"
     },
     "output_type": "display_data"
    }
   ],
   "source": [
    "acc = result.history['accuracy']\n",
    "val_acc = result.history['val_accuracy']\n",
    "los = result.history['loss']\n",
    "val_los = result.history['val_loss']\n",
    "\n",
    "fig, ax = plt.subplots(constrained_layout=True)\n",
    "ax.plot(acc,'b')\n",
    "ax.plot(val_acc,'c')\n",
    "ax.set_xlabel(\"Epoch\")\n",
    "ax.set_ylabel(\"Accuracy (%)\")\n",
    "\n",
    "ax2 = ax.twinx()\n",
    "ax2.plot(los,'bo')\n",
    "ax2.plot(val_los,'co')\n",
    "ax2.set_ylabel(\"Loss Function\")\n",
    "\n",
    "fig.tight_layout\n",
    "fig.legend(['train','val']) #Dots = loss || lines = accuracy\n",
    "ax.grid('on')"
   ]
  },
  {
   "cell_type": "code",
   "execution_count": 70,
   "metadata": {},
   "outputs": [
    {
     "name": "stdout",
     "output_type": "stream",
     "text": [
      "WARNING:tensorflow:From <ipython-input-70-6c348a2e3cdd>:2: Sequential.predict_classes (from tensorflow.python.keras.engine.sequential) is deprecated and will be removed after 2021-01-01.\n",
      "Instructions for updating:\n",
      "Please use instead:* `np.argmax(model.predict(x), axis=-1)`,   if your model does multi-class classification   (e.g. if it uses a `softmax` last-layer activation).* `(model.predict(x) > 0.5).astype(\"int32\")`,   if your model does binary classification   (e.g. if it uses a `sigmoid` last-layer activation).\n"
     ]
    },
    {
     "name": "stderr",
     "output_type": "stream",
     "text": [
      "WARNING:tensorflow:From <ipython-input-70-6c348a2e3cdd>:2: Sequential.predict_classes (from tensorflow.python.keras.engine.sequential) is deprecated and will be removed after 2021-01-01.\n",
      "Instructions for updating:\n",
      "Please use instead:* `np.argmax(model.predict(x), axis=-1)`,   if your model does multi-class classification   (e.g. if it uses a `softmax` last-layer activation).* `(model.predict(x) > 0.5).astype(\"int32\")`,   if your model does binary classification   (e.g. if it uses a `sigmoid` last-layer activation).\n"
     ]
    },
    {
     "name": "stdout",
     "output_type": "stream",
     "text": [
      "Model is 98.71 accuract at predicting test data\n"
     ]
    },
    {
     "data": {
      "text/plain": [
       "array([[1128,    1,    0,    0,    3,    0,    2,    0,    1],\n",
       "       [   0, 1025,    0,    0,    0,    0,    4,    3,    0],\n",
       "       [   0,    2,  988,    0,    8,    1,    5,    5,    1],\n",
       "       [   0,    0,    0,  963,    0,    3,    2,    0,   14],\n",
       "       [   0,    0,    3,    0,  883,    3,    1,    1,    1],\n",
       "       [   3,    0,    0,    4,    1,  948,    0,    1,    1],\n",
       "       [   1,    1,    0,    2,    0,    0, 1020,    0,    4],\n",
       "       [   1,    1,    1,    1,    1,    2,    0,  965,    2],\n",
       "       [   1,    0,    0,    4,    7,    0,    5,    8,  984]],\n",
       "      dtype=int64)"
      ]
     },
     "execution_count": 70,
     "metadata": {},
     "output_type": "execute_result"
    },
    {
     "data": {
      "image/png": "[encoded data removed]",
      "text/plain": [
       "<Figure size 864x864 with 10 Axes>"
      ]
     },
     "metadata": {
      "needs_background": "light"
     },
     "output_type": "display_data"
    }
   ],
   "source": [
    "def accuracy(df,labels,mod):\n",
    "    guess = mod.predict_classes(df)\n",
    "    n = len(labels)\n",
    "    correct = np.sum(guess==labels)\n",
    "    \n",
    "    plt.figure(figsize=(12, 12))\n",
    "    for i in range(10):\n",
    "        rand_int = np.random.randint(len(df)) #Pick a random number\n",
    "        ax = plt.subplot(5,5,i+1)\n",
    "        ax.imshow(df[rand_int],cmap='gray') #Display the data\n",
    "        plt.title(\"Label/Guess: %s/%s\"%(str(labels[rand_int]+1),str(guess[rand_int]+1))) #Show the label + guess\n",
    "        ax.axis('off')\n",
    "    return correct/n*100\n",
    "\n",
    "from sklearn.metrics import confusion_matrix\n",
    "test_acc = accuracy(test_df,test_label,model)\n",
    "print(\"Model is %.2f accuract at predicting test data\"%test_acc)\n",
    "guess = model.predict_classes(test_df)\n",
    "confusion_matrix(test_label,guess)"
   ]
  },
  {
   "cell_type": "markdown",
   "metadata": {},
   "source": [
    "# Save model - the Tensorflow way"
   ]
  },
  {
   "cell_type": "code",
   "execution_count": 71,
   "metadata": {},
   "outputs": [],
   "source": [
    "#model_name = 'my_model.h5' #base model 12 epoch\n",
    "model_name = '2021-05-15 98_53acc Model Gauss.h5' #With 4Conv2D + dropout and 22 epochs\n",
    "#model_name = 'my_model_4Conv_dropout_18ep.h5' #With 4Conv2D + dropout and 18 epochs\n",
    "\n",
    "model.save(model_name)\n",
    "\n",
    "# Save the weights\n",
    "#model.save_weights('./checkpoints/my_checkpoint')"
   ]
  },
  {
   "cell_type": "markdown",
   "metadata": {},
   "source": [
    "# Test loading of model"
   ]
  },
  {
   "cell_type": "code",
   "execution_count": 11,
   "metadata": {},
   "outputs": [
    {
     "name": "stdout",
     "output_type": "stream",
     "text": [
      "Model: \"sequential_5\"\n",
      "_________________________________________________________________\n",
      "Layer (type)                 Output Shape              Param #   \n",
      "=================================================================\n",
      "sequential_4 (Sequential)    (None, 28, 28, 1)         0         \n",
      "_________________________________________________________________\n",
      "conv2d (Conv2D)              (None, 22, 22, 64)        3200      \n",
      "_________________________________________________________________\n",
      "max_pooling2d (MaxPooling2D) (None, 11, 11, 64)        0         \n",
      "_________________________________________________________________\n",
      "conv2d_1 (Conv2D)            (None, 11, 11, 128)       73856     \n",
      "_________________________________________________________________\n",
      "conv2d_2 (Conv2D)            (None, 11, 11, 128)       147584    \n",
      "_________________________________________________________________\n",
      "max_pooling2d_1 (MaxPooling2 (None, 5, 5, 128)         0         \n",
      "_________________________________________________________________\n",
      "conv2d_3 (Conv2D)            (None, 5, 5, 128)         147584    \n",
      "_________________________________________________________________\n",
      "conv2d_4 (Conv2D)            (None, 5, 5, 128)         147584    \n",
      "_________________________________________________________________\n",
      "max_pooling2d_2 (MaxPooling2 (None, 2, 2, 128)         0         \n",
      "_________________________________________________________________\n",
      "flatten (Flatten)            (None, 512)               0         \n",
      "_________________________________________________________________\n",
      "dense (Dense)                (None, 256)               131328    \n",
      "_________________________________________________________________\n",
      "dropout (Dropout)            (None, 256)               0         \n",
      "_________________________________________________________________\n",
      "dense_1 (Dense)              (None, 128)               32896     \n",
      "_________________________________________________________________\n",
      "dropout_1 (Dropout)          (None, 128)               0         \n",
      "_________________________________________________________________\n",
      "dense_2 (Dense)              (None, 64)                8256      \n",
      "_________________________________________________________________\n",
      "dropout_2 (Dropout)          (None, 64)                0         \n",
      "_________________________________________________________________\n",
      "dense_3 (Dense)              (None, 9)                 585       \n",
      "=================================================================\n",
      "Total params: 692,873\n",
      "Trainable params: 692,873\n",
      "Non-trainable params: 0\n",
      "_________________________________________________________________\n",
      "None\n",
      "282/282 - 0s - loss: 0.0965 - accuracy: 0.1257\n",
      "Restored model test accuracy: 12.57%\n"
     ]
    }
   ],
   "source": [
    "# Recreate the exact same model, including its weights and the optimizer\n",
    "loaded_model = tf.keras.models.load_model(model_name)\n",
    "\n",
    "# Show the model architecture\n",
    "print(loaded_model.summary())\n",
    "\n",
    "loss, acc = loaded_model.evaluate(test_df, test_label, verbose=2)\n",
    "print('Restored model test accuracy: {:5.2f}%'.format(100 * acc))"
   ]
  },
  {
   "cell_type": "markdown",
   "metadata": {},
   "source": [
    "# Deep dive on a singular entry"
   ]
  },
  {
   "cell_type": "code",
   "execution_count": 12,
   "metadata": {},
   "outputs": [
    {
     "data": {
      "image/png": "[encoded data removed]",
      "text/plain": [
       "<Figure size 432x288 with 1 Axes>"
      ]
     },
     "metadata": {
      "needs_background": "light"
     },
     "output_type": "display_data"
    },
    {
     "name": "stdout",
     "output_type": "stream",
     "text": [
      "Guess: 7\n",
      "Confidence: 100.00\n"
     ]
    }
   ],
   "source": [
    "randi = np.random.randint(len(test_df))\n",
    "plt.imshow(test_df[randi],cmap='gray')\n",
    "plt.title(\"True label: \" + str(test_label[randi]+1))\n",
    "plt.show()\n",
    "\n",
    "pred = loaded_model.predict(np.reshape(test_df[randi],(1,28,28,1)))\n",
    "\n",
    "num = np.argmax(pred)+1 #Plus 1 because the class labels are [0,8] while the true numbers are [1,9]\n",
    "conf = np.amax(pred)\n",
    "\n",
    "print(\"Guess: %s\\nConfidence: %.2f\"%(num,conf*100))\n"
   ]
  },
  {
   "cell_type": "markdown",
   "metadata": {},
   "source": [
    "# Test model on images gathered from the sudoku grid"
   ]
  },
  {
   "cell_type": "code",
   "execution_count": 13,
   "metadata": {
    "code_folding": []
   },
   "outputs": [
    {
     "name": "stdout",
     "output_type": "stream",
     "text": [
      "Grid layout per images loaded:\n"
     ]
    },
    {
     "data": {
      "image/png": "[encoded data removed]",
      "text/plain": [
       "<Figure size 432x432 with 81 Axes>"
      ]
     },
     "metadata": {
      "needs_background": "light"
     },
     "output_type": "display_data"
    }
   ],
   "source": [
    "#Load images\n",
    "import numpy as np\n",
    "from PIL import Image\n",
    "import cv2\n",
    "import matplotlib.pyplot as plt\n",
    "\n",
    "files = []\n",
    "for i in range(82):\n",
    "    files.append(\"Test Sudoku Images/\"+str(i)+\".jpg\")\n",
    "images = [] #Blank to hold image file\n",
    "label_id = [] #Blank to hold the true labels\n",
    "labels = [8,0,0,0,1,0,0,0,9, #Hand code all the actual labels\n",
    "         0,5,0,8,0,7,0,1,0,\n",
    "         0,0,4,0,9,0,7,0,0,\n",
    "         0,6,0,7,0,1,0,2,0,\n",
    "         5,0,8,0,6,0,1,0,7,\n",
    "         0,1,0,5,0,2,0,9,0,\n",
    "         0,0,7,0,4,0,6,0,0,\n",
    "         0,8,0,3,0,9,0,4,0,\n",
    "         3,0,0,0,5,0,0,0,8]\n",
    "for i,label in enumerate(labels):\n",
    "    if label != 0:\n",
    "        \n",
    "        #images.append(files[i][19:]) #Remove the base directory name .. keep only \"75.png\" part\n",
    "        img = np.asarray(Image.open(files[i])) #Read image as numpy array\n",
    "        img = cv2.resize(img[48:235,160:340],(28,28)) #Resize\n",
    "        img = cv2.cvtColor(img,cv2.COLOR_BGR2GRAY)\n",
    "        img = np.abs(255-img)\n",
    "        \n",
    "        images.append(img)\n",
    "        label_id.append(label)\n",
    "    else:\n",
    "        images.append(np.ones((28,28))*255)\n",
    "\n",
    "#Show images\n",
    "print(\"Grid layout per images loaded:\")\n",
    "fig = plt.figure(figsize=(6,6))\n",
    "for i in range(9):\n",
    "    for j in range(9):\n",
    "        plt.subplot(9,9,1+j+i*9)\n",
    "        plt.imshow(images[j+i*9])\n",
    "        plt.axis(\"off\")\n",
    "plt.show()\n",
    "        \n",
    "#plt.imshow(images[0],cmap='gray')\n",
    "#plt.show()\n",
    "\n",
    "#Reshape each image for processing\n",
    "for i,img in enumerate(images):\n",
    "    images[i] = np.reshape(img,(1,28,28,1))"
   ]
  },
  {
   "cell_type": "code",
   "execution_count": 14,
   "metadata": {},
   "outputs": [
    {
     "name": "stdout",
     "output_type": "stream",
     "text": [
      "[[8 0 0 0 7 0 0 0 5]\n",
      " [0 5 0 8 0 7 0 7 0]\n",
      " [0 0 4 0 9 0 7 0 0]\n",
      " [0 6 0 7 0 7 0 2 0]\n",
      " [5 0 8 0 6 0 7 0 7]\n",
      " [0 7 0 5 0 2 0 0 0]\n",
      " [0 0 1 0 4 0 6 0 0]\n",
      " [0 3 0 3 0 0 0 4 0]\n",
      " [3 0 0 0 5 0 0 0 0]]\n"
     ]
    }
   ],
   "source": [
    "predictions = []\n",
    "grid = []\n",
    "for i,img in enumerate(images):\n",
    "    pred = loaded_model.predict(img)\n",
    "    \n",
    "    if np.max(pred) < 0.3:\n",
    "        num = 0\n",
    "        conf = np.amax(pred)\n",
    "    else:\n",
    "        num = np.argmax(pred)+1\n",
    "        conf = np.amax(pred)\n",
    "    grid.append(num)\n",
    "    predictions.append([num,conf,labels[i]])\n",
    "\n",
    "grid = np.array(grid)\n",
    "grid = np.reshape(grid,(9,9)) #Shape as sudoku grid\n",
    "\n",
    "#predictions\n",
    "print(grid)"
   ]
  },
  {
   "cell_type": "markdown",
   "metadata": {},
   "source": [
    "# Closing statements\n",
    "\n",
    "This model is alright at best. It has pretty good accuracy, but the confidence level of some of the entries needs work"
   ]
  },
  {
   "cell_type": "code",
   "execution_count": 17,
   "metadata": {},
   "outputs": [
    {
     "data": {
      "text/plain": [
       "[5, 0.40133232, 9]"
      ]
     },
     "execution_count": 17,
     "metadata": {},
     "output_type": "execute_result"
    }
   ],
   "source": [
    "predictions[8]"
   ]
  },
  {
   "cell_type": "markdown",
   "metadata": {},
   "source": [
    "This entry (top right corner of the grid) is predicted as a [5] with `40.13%` confidence --- It should have been a [9]!\n",
    "\n",
    "Meanwhile there are some entries in the grid such as the bottom right entry which aren't interpreted because the confidence was below the 30% threshold I had put (which ultimately, this threshold should really be set to something like >80% confidence in my opinion because the model should be pretty definitive in its classification of the numbers!)"
   ]
  },
  {
   "cell_type": "code",
   "execution_count": 18,
   "metadata": {},
   "outputs": [
    {
     "data": {
      "text/plain": [
       "[0, 0.20665807, 8]"
      ]
     },
     "execution_count": 18,
     "metadata": {},
     "output_type": "execute_result"
    }
   ],
   "source": [
    "predictions[-1]"
   ]
  },
  {
   "cell_type": "markdown",
   "metadata": {},
   "source": [
    "The bottom right entry was suppose to be [8] but the confidence was only `20.66%` and thus registered as [0]. This is nearly as bad as the model just randomly guessing (1/9 = 11.11%)."
   ]
  },
  {
   "cell_type": "markdown",
   "metadata": {},
   "source": [
    "# Path forward\n",
    "\n",
    "Sudoku books and sudoku games you find online often come with <ins>digital</ins> numbers in the grids. Ie: They're written in fonts like `Arial` or `Times New Roman` ... they aren't handwritten by humans.\n",
    "\n",
    "Finding a dataset that is more digital would be ideal.\n",
    "> Enter: E-MNIST (https://www.nist.gov/itl/products-and-services/emnist-dataset) a digital dataset of numbers and characters!"
   ]
  }
 ],
 "metadata": {
  "kernelspec": {
   "display_name": "Python 3.8 (tensorflow)",
   "language": "python",
   "name": "tensorflowenv"
  },
  "language_info": {
   "codemirror_mode": {
    "name": "ipython",
    "version": 3
   },
   "file_extension": ".py",
   "mimetype": "text/x-python",
   "name": "python",
   "nbconvert_exporter": "python",
   "pygments_lexer": "ipython3",
   "version": "3.8.8"
  }
 },
 "nbformat": 4,
 "nbformat_minor": 4
}
